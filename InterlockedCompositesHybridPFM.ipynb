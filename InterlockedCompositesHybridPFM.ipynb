{
 "cells": [
  {
   "cell_type": "code",
   "execution_count": null,
   "id": "a44006b3",
   "metadata": {},
   "outputs": [],
   "source": [
    "using Gmsh\n",
    "using GridapGmsh\n",
    "using Gridap\n",
    "using Gridap.Geometry\n",
    "using Gridap.TensorValues\n",
    "using Gridap.Fields\n",
    "using Gridap.CellData\n",
    "using Gridap.ReferenceFEs\n",
    "using Plots; pyplot()\n",
    "using LinearAlgebra"
   ]
  },
  {
   "cell_type": "code",
   "execution_count": null,
   "id": "ab23d5f5",
   "metadata": {},
   "outputs": [],
   "source": [
    "E_mortar = 30\n",
    "E_brick = 1.93e3\n",
    "ν_mortar = 0.4\n",
    "ν_brick = 0.33\n",
    "@show λ_mortar = E_mortar*ν_mortar/((1+ν_mortar)*(1-2*ν_mortar))\n",
    "@show λ_brick = E_brick*ν_brick/((1+ν_brick)*(1-2*ν_brick))\n",
    "@show μ_mortar = E_mortar/(2*(1+ν_mortar))\n",
    "@show μ_brick = E_brick/(2*(1+ν_brick))\n",
    "ls = 1.0\n",
    "Gc_mortar = 0.28 \n",
    "Gc_brick = 0.73  \n",
    "const η = 1e-10"
   ]
  },
  {
   "cell_type": "code",
   "execution_count": null,
   "id": "6ed4768e",
   "metadata": {},
   "outputs": [],
   "source": [
    "model = GmshDiscreteModel(\"model.msh\")\n",
    "writevtk(model,\"Interlocking_model\") "
   ]
  },
  {
   "cell_type": "code",
   "execution_count": null,
   "id": "2c4485e8",
   "metadata": {},
   "outputs": [],
   "source": [
    "labels = get_face_labeling(model)\n",
    "dimension = 2\n",
    "mat_tags = get_face_tag(labels,dimension);\n",
    "const brick = get_tag_from_name(labels,\"brick\")\n",
    "const mortar = get_tag_from_name(labels,\"mortar\")"
   ]
  },
  {
   "cell_type": "code",
   "execution_count": null,
   "id": "b10c8319",
   "metadata": {},
   "outputs": [],
   "source": [
    "function Gc(s_id,tag)\n",
    "        if tag == brick          \n",
    "            return  Gc_brick *s_id\n",
    "        elseif tag == mortar        \n",
    "            return Gc_mortar *s_id\n",
    "        end\n",
    "end\n",
    "\n",
    "function material_tag(tag)\n",
    "    if tag == brick\n",
    "        μ = μ_brick\n",
    "        λ = λ_brick\n",
    "        k = μ+λ\n",
    "    elseif tag == mortar\n",
    "        μ = μ_mortar\n",
    "        λ = λ_mortar\n",
    "        k = μ+λ\n",
    "    end \n",
    "    return μ,λ,k\n",
    "end"
   ]
  },
  {
   "cell_type": "code",
   "execution_count": null,
   "id": "d108900f",
   "metadata": {},
   "outputs": [],
   "source": [
    "function σ_elas(ε,tag)\n",
    "    μ,λ,k= material_tag(tag)\n",
    "     σ_elas = λ*tr(ε)*one(ε) + 2*μ*ε\n",
    "    return  σ_elas\n",
    "end\n",
    "\n",
    "function σ_fun(ε, ε_in, s_in,tag)\n",
    "     \n",
    "     σ = (s_in^2 + η)*σ_elas(ε,tag)\n",
    "     \n",
    "    return σ\n",
    "end"
   ]
  },
  {
   "cell_type": "code",
   "execution_count": null,
   "id": "867163de",
   "metadata": {},
   "outputs": [],
   "source": [
    "function ΨPos(ε_in,tag)\n",
    "    μ,λ,k= material_tag(tag)\n",
    "    εArray = get_array(ε_in)\n",
    "    Λ, P = eigen(εArray)\n",
    "    ε1 = Λ[1]\n",
    "    ε2 = Λ[2]\n",
    "    if ε1 >= 0 &&  ε2 >= 0\n",
    "        Λpos = [ε1 0; 0 ε2]\n",
    "        Λneg = [0 0; 0 0]\n",
    "    elseif ε1 >= 0 &&  ε2 < 0\n",
    "        Λpos = [ε1 0; 0 0]\n",
    "        Λneg = [0 0; 0 ε2]\n",
    "    elseif ε1 < 0 &&  ε2 >= 0\n",
    "        Λpos = [0 0; 0 ε2]\n",
    "        Λneg = [ε1 0; 0 0]\n",
    "    elseif ε1 < 0 &&  ε2 < 0\n",
    "        Λpos = [0 0; 0 0]\n",
    "        Λneg = [ε1 0; 0 ε2]\n",
    "    end \n",
    "   εPos = P*Λpos*P'\n",
    "   εNeg = P*Λneg*P'\n",
    "   ε_Pos = TensorValue(εPos)\n",
    "   if tr(ε_in) >= 0\n",
    "        ΨPlus = 0.5*λ*(tr(ε_in))^2 + μ*(ε_Pos ⊙ ε_Pos) \n",
    "   elseif tr(ε_in) < 0\n",
    "        ΨPlus = μ*(ε_Pos ⊙ ε_Pos)\n",
    "   end\n",
    "    return ΨPlus\n",
    "end"
   ]
  },
  {
   "cell_type": "code",
   "execution_count": null,
   "id": "5cf42f45",
   "metadata": {},
   "outputs": [],
   "source": [
    "order = 1\n",
    "reffe_PF = ReferenceFE(lagrangian ,Float64,order)\n",
    "V0_PF = TestFESpace(model ,reffe_PF;conformity =:H1)\n",
    "U_PF = TrialFESpace(V0_PF)\n",
    "sh = zero(V0_PF)\n",
    "\n",
    "reffe_Disp = ReferenceFE(lagrangian,VectorValue{2,Float64},order)\n",
    "        V0_Disp = TestFESpace(model,reffe_Disp;\n",
    "          conformity=:H1,\n",
    "          dirichlet_tags=[\"loadboundary\",\"fixedboundary\"],\n",
    "          dirichlet_masks=[(false,true), (true,true)])\n",
    "uh = zero(V0_Disp)"
   ]
  },
  {
   "cell_type": "code",
   "execution_count": null,
   "id": "b5b53287",
   "metadata": {},
   "outputs": [],
   "source": [
    "degree = 2*order\n",
    "Ω = Triangulation(model)\n",
    "dΩ = Measure(Ω,degree)"
   ]
  },
  {
   "cell_type": "code",
   "execution_count": null,
   "id": "88b1c7bb",
   "metadata": {},
   "outputs": [],
   "source": [
    "LoadTagId = get_tag_from_name(labels,\"loadboundary\")\n",
    "Γ_Load = BoundaryTriangulation(model,tags = LoadTagId)\n",
    "dΓ_Load = Measure(Γ_Load,degree)\n",
    "n_Γ_Load = get_normal_vector(Γ_Load)"
   ]
  },
  {
   "cell_type": "code",
   "execution_count": null,
   "id": "6a1800c5",
   "metadata": {},
   "outputs": [],
   "source": [
    "function project(q,model,dΩ,order)\n",
    "  reffe = ReferenceFE(lagrangian,Float64,order)\n",
    "  V = FESpace(model,reffe,conformity=:L2)\n",
    "  a(u,v) = ∫(u*v)*dΩ\n",
    "  b(v) = ∫(v*q)*dΩ\n",
    "  op = AffineFEOperator(a,b,V,V)\n",
    "  qh = solve(op)\n",
    "  return qh\n",
    "end\n",
    "\n",
    "sId = CellState(1.0,dΩ)\n",
    "shId = project(sId,model,dΩ,order)"
   ]
  },
  {
   "cell_type": "code",
   "execution_count": null,
   "id": "bf949325",
   "metadata": {},
   "outputs": [],
   "source": [
    "function  stepDisp(uh_in,sh_in,vApp,tag)\n",
    "    uApp1(x) = VectorValue(0.0,vApp)\n",
    "    uApp2(x) = VectorValue(0.0,0.0)\n",
    "    U_Disp = TrialFESpace(V0_Disp,[uApp1,uApp2])\n",
    "    a_Disp(u,v) = ∫( (ε(v)⊙(σ_fun ∘ (ε(u),ε(uh_in),sh_in,tag)) ) )*dΩ\n",
    "     b_Disp(v) = 0.0\n",
    "    op_Disp = AffineFEOperator(a_Disp ,b_Disp ,U_Disp ,V0_Disp)\n",
    "    uh_out = Gridap.solve(op_Disp)\n",
    "    return  uh_out\n",
    "end"
   ]
  },
  {
   "cell_type": "code",
   "execution_count": null,
   "id": "87a579b4",
   "metadata": {},
   "outputs": [],
   "source": [
    "function   stepPhaseField(uh_in ,ΨPlusPrev_in)\n",
    "    a_PF(s,ϕ) =∫( (Gc∘(shId,mat_tags))*ls*∇(ϕ)⋅∇(s)+ 2*ΨPlusPrev_in*s*ϕ+ ((Gc∘(shId,mat_tags))/ls)*s*ϕ)*dΩ\n",
    "    b_PF(ϕ) =∫( ((Gc∘(shId,mat_tags))/ls)*ϕ)*dΩ\n",
    "    op_PF = AffineFEOperator(a_PF,b_PF ,U_PF ,V0_PF)\n",
    "    sh_out = Gridap.solve(op_PF)\n",
    "    return  sh_out\n",
    "end"
   ]
  },
  {
   "cell_type": "code",
   "execution_count": null,
   "id": "68a28146",
   "metadata": {},
   "outputs": [],
   "source": [
    "function  new_EnergyState(ΨPlusPrev_in,ΨhPos_in)\n",
    "    ΨPlus_in = ΨhPos_in\n",
    "    if ΨPlus_in  >=ΨPlusPrev_in\n",
    "        ΨPlus_out =ΨPlus_in\n",
    "    else\n",
    "        ΨPlus_out=ΨPlusPrev_in\n",
    "    end\n",
    "    true,ΨPlus_out\n",
    "end "
   ]
  },
  {
   "cell_type": "code",
   "execution_count": null,
   "id": "90919444",
   "metadata": {},
   "outputs": [],
   "source": [
    "vApp = 0\n",
    "const  vAppMax = 5\n",
    "delv = vAppMax/100\n",
    "innerMax = 10\n",
    "count = 0\n",
    "Load = Float64[]\n",
    "Displacement = Float64[]\n",
    "Stress = Float64[]\n",
    "Strain = Float64[]\n",
    "\n",
    "push!(Load, 0.0)\n",
    "push!(Displacement, 0.0)\n",
    "\n",
    "sPrev = CellState(1.0,dΩ)\n",
    "sh = project(sPrev ,model ,dΩ,order)\n",
    "ΨPlusPrev = CellState(0.0,dΩ)\n",
    "\n",
    "while  vApp .< vAppMax\n",
    "    count = count  .+ 1   \n",
    "    vApp = vApp .+ delv\n",
    "    print(\"\\n Entering  displacemtent  step:count \", float(vApp))\n",
    "\n",
    "    for  inner = 1: innerMax\n",
    "        ΨhPlusPrev = project(ΨPlusPrev ,model ,dΩ,order)\n",
    "        RelErr = abs(sum(∫( (Gc∘(shId,mat_tags))*ls*∇(sh)⋅∇(sh) + 2*ΨhPlusPrev*sh*sh + ((Gc∘(shId,mat_tags))/ls)*sh*sh)*dΩ-∫( ((Gc∘(shId,mat_tags))/ls)*sh)*dΩ))/abs(sum(∫( ((Gc∘(shId,mat_tags))/ls)*sh)*dΩ))\n",
    "        print(\"\\n Relative Error :\", float(RelErr))\n",
    "        sh = stepPhaseField(uh,ΨhPlusPrev)\n",
    "        uh = stepDisp(uh,sh,vApp,mat_tags)\n",
    "        ΨhPos_in = ΨPos∘(ε(uh),mat_tags)\n",
    "        update_state!( new_EnergyState ,ΨPlusPrev ,ΨhPos_in)\n",
    "        if   RelErr  < 1e-8\n",
    "            break\n",
    "        end\n",
    "    end\n",
    "    Node_Force = sum(∫(n_Γ_Load⋅(σ_fun∘(ε(uh),ε(uh),sh,mat_tags)))*dΓ_Load)\n",
    "    push!(Load , Node_Force[2])\n",
    "    push!( Displacement , vApp)\n",
    "    if mod(count,5)==0\n",
    "    writevtk(Ω,\"results_vtk\",cellfields= [\"uh\"=>uh ,\"s\"=>sh,\"epsi\"=>ε(uh), \"σ_elas\"=>σ_elas∘(ε(uh),mat_tags)])\n",
    "    end\n",
    " end"
   ]
  },
  {
   "cell_type": "code",
   "execution_count": null,
   "id": "1a4b1726",
   "metadata": {},
   "outputs": [],
   "source": [
    "plot(Displacement,Load)"
   ]
  }
 ],
 "metadata": {
  "@webio": {
   "lastCommId": null,
   "lastKernelId": null
  },
  "kernelspec": {
   "display_name": "Julia 1.6.2",
   "language": "julia",
   "name": "julia-1.6"
  },
  "language_info": {
   "file_extension": ".jl",
   "mimetype": "application/julia",
   "name": "julia",
   "version": "1.6.2"
  }
 },
 "nbformat": 4,
 "nbformat_minor": 5
}
