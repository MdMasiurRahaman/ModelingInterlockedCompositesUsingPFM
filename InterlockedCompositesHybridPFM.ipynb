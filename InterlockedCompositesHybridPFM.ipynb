{
 "cells": [
  {
   "cell_type": "code",
   "execution_count": 1,
   "id": "a44006b3",
   "metadata": {},
   "outputs": [],
   "source": [
    "using Gmsh\n",
    "using GridapGmsh\n",
    "using Gridap\n",
    "using Gridap.Geometry\n",
    "using Gridap.TensorValues\n",
    "using Gridap.Fields\n",
    "using Gridap.CellData\n",
    "using Gridap.ReferenceFEs\n",
    "using Plots; pyplot()\n",
    "using LinearAlgebra"
   ]
  },
  {
   "cell_type": "code",
   "execution_count": 2,
   "id": "ab23d5f5",
   "metadata": {},
   "outputs": [
    {
     "name": "stdout",
     "output_type": "stream",
     "text": [
      "λ_mortar = (E_mortar * ν_mortar) / ((1 + ν_mortar) * (1 - 2ν_mortar)) = 42.85714285714287\n",
      "λ_brick = (E_brick * ν_brick) / ((1 + ν_brick) * (1 - 2ν_brick)) = 1408.4475895621406\n",
      "μ_mortar = E_mortar / (2 * (1 + ν_mortar)) = 10.714285714285715\n",
      "μ_brick = E_brick / (2 * (1 + ν_brick)) = 725.5639097744361\n"
     ]
    },
    {
     "data": {
      "text/plain": [
       "1.0e-10"
      ]
     },
     "execution_count": 2,
     "metadata": {},
     "output_type": "execute_result"
    }
   ],
   "source": [
    "E_mortar = 30\n",
    "E_brick = 1.93e3\n",
    "ν_mortar = 0.4\n",
    "ν_brick = 0.33\n",
    "@show λ_mortar = E_mortar*ν_mortar/((1+ν_mortar)*(1-2*ν_mortar))\n",
    "@show λ_brick = E_brick*ν_brick/((1+ν_brick)*(1-2*ν_brick))\n",
    "@show μ_mortar = E_mortar/(2*(1+ν_mortar))\n",
    "@show μ_brick = E_brick/(2*(1+ν_brick))\n",
    "ls = 1.0\n",
    "Gc_mortar = 0.28 \n",
    "Gc_brick = 0.73  \n",
    "const η = 1e-10"
   ]
  },
  {
   "cell_type": "code",
   "execution_count": 3,
   "id": "6ed4768e",
   "metadata": {},
   "outputs": [
    {
     "name": "stdout",
     "output_type": "stream",
     "text": [
      "Info    : Reading 'model.msh'...\n",
      "Info    : 335 entities\n",
      "Info    : 205128 nodes\n",
      "Info    : [ 10%] Reading nodes                                          \r",
      "Info    : [ 20%] Reading nodes                                          \r",
      "Info    : [ 30%] Reading nodes                                          \r",
      "Info    : [ 40%] Reading nodes                                          \r",
      "Info    : [ 50%] Reading nodes                                          \r",
      "Info    : [ 50%] Reading nodes                                          \r",
      "Info    : [ 60%] Reading nodes                                          \r",
      "Info    : [ 70%] Reading nodes                                          \r",
      "Info    : [ 80%] Reading nodes                                          \r",
      "Info    : [ 90%] Reading nodes                                          \r",
      "Info    : [100%] Reading nodes                                          \r",
      "                                          \r",
      "Info    : 419268 elements\n",
      "Info    : [ 10%] Reading elements                                          \r",
      "Info    : [ 20%] Reading elements                                          \r",
      "Info    : [ 30%] Reading elements                                          \r",
      "Info    : [ 40%] Reading elements                                          \r",
      "Info    : [ 50%] Reading elements                                          \r",
      "Info    : [ 50%] Reading elements                                          \r",
      "Info    : [ 60%] Reading elements                                          \r",
      "Info    : [ 70%] Reading elements                                          \r",
      "Info    : [ 80%] Reading elements                                          \r",
      "Info    : [ 90%] Reading elements                                          \r",
      "Info    : [100%] Reading elements                                          \r",
      "                                          \r",
      "Info    : Done reading 'model.msh'\n"
     ]
    },
    {
     "data": {
      "text/plain": [
       "3-element Vector{Vector{String}}:\n",
       " [\"Interlocking_model_0.vtu\"]\n",
       " [\"Interlocking_model_1.vtu\"]\n",
       " [\"Interlocking_model_2.vtu\"]"
      ]
     },
     "execution_count": 3,
     "metadata": {},
     "output_type": "execute_result"
    }
   ],
   "source": [
    "model = GmshDiscreteModel(\"model.msh\")\n",
    "writevtk(model,\"Interlocking_model\") "
   ]
  },
  {
   "cell_type": "code",
   "execution_count": 4,
   "id": "2c4485e8",
   "metadata": {},
   "outputs": [
    {
     "data": {
      "text/plain": [
       "2"
      ]
     },
     "execution_count": 4,
     "metadata": {},
     "output_type": "execute_result"
    }
   ],
   "source": [
    "labels = get_face_labeling(model)\n",
    "dimension = 2\n",
    "mat_tags = get_face_tag(labels,dimension);\n",
    "const brick = get_tag_from_name(labels,\"brick\")\n",
    "const mortar = get_tag_from_name(labels,\"mortar\")"
   ]
  },
  {
   "cell_type": "code",
   "execution_count": 5,
   "id": "b10c8319",
   "metadata": {},
   "outputs": [
    {
     "data": {
      "text/plain": [
       "material_tag (generic function with 1 method)"
      ]
     },
     "execution_count": 5,
     "metadata": {},
     "output_type": "execute_result"
    }
   ],
   "source": [
    "function Gc(s_id,tag)\n",
    "        if tag == brick          \n",
    "            return  Gc_brick *s_id\n",
    "        elseif tag == mortar        \n",
    "            return Gc_mortar *s_id\n",
    "        end\n",
    "end\n",
    "\n",
    "function material_tag(tag)\n",
    "    if tag == brick\n",
    "        μ = μ_brick\n",
    "        λ = λ_brick\n",
    "        k = μ+λ\n",
    "    elseif tag == mortar\n",
    "        μ = μ_mortar\n",
    "        λ = λ_mortar\n",
    "        k = μ+λ\n",
    "    end \n",
    "    return μ,λ,k\n",
    "end"
   ]
  },
  {
   "cell_type": "code",
   "execution_count": 6,
   "id": "d108900f",
   "metadata": {},
   "outputs": [
    {
     "data": {
      "text/plain": [
       "σ_fun (generic function with 1 method)"
      ]
     },
     "execution_count": 6,
     "metadata": {},
     "output_type": "execute_result"
    }
   ],
   "source": [
    "function σ_elas(ε,tag)\n",
    "    μ,λ,k= material_tag(tag)\n",
    "     σ_elas = λ*tr(ε)*one(ε) + 2*μ*ε\n",
    "    return  σ_elas\n",
    "end\n",
    "\n",
    "function σ_fun(ε, ε_in, s_in,tag)\n",
    "     \n",
    "     σ = (s_in^2 + η)*σ_elas(ε,tag)\n",
    "     \n",
    "    return σ\n",
    "end"
   ]
  },
  {
   "cell_type": "code",
   "execution_count": 7,
   "id": "867163de",
   "metadata": {},
   "outputs": [
    {
     "data": {
      "text/plain": [
       "ΨPos (generic function with 1 method)"
      ]
     },
     "execution_count": 7,
     "metadata": {},
     "output_type": "execute_result"
    }
   ],
   "source": [
    "function ΨPos(ε_in,tag)\n",
    "    μ,λ,k= material_tag(tag)\n",
    "    εArray = get_array(ε_in)\n",
    "    Λ, P = eigen(εArray)\n",
    "    ε1 = Λ[1]\n",
    "    ε2 = Λ[2]\n",
    "    if ε1 >= 0 &&  ε2 >= 0\n",
    "        Λpos = [ε1 0; 0 ε2]\n",
    "        Λneg = [0 0; 0 0]\n",
    "    elseif ε1 >= 0 &&  ε2 < 0\n",
    "        Λpos = [ε1 0; 0 0]\n",
    "        Λneg = [0 0; 0 ε2]\n",
    "    elseif ε1 < 0 &&  ε2 >= 0\n",
    "        Λpos = [0 0; 0 ε2]\n",
    "        Λneg = [ε1 0; 0 0]\n",
    "    elseif ε1 < 0 &&  ε2 < 0\n",
    "        Λpos = [0 0; 0 0]\n",
    "        Λneg = [ε1 0; 0 ε2]\n",
    "    end \n",
    "   εPos = P*Λpos*P'\n",
    "   εNeg = P*Λneg*P'\n",
    "   ε_Pos = TensorValue(εPos)\n",
    "   if tr(ε_in) >= 0\n",
    "        ΨPlus = 0.5*λ*(tr(ε_in))^2 + μ*(ε_Pos ⊙ ε_Pos) \n",
    "   elseif tr(ε_in) < 0\n",
    "        ΨPlus = μ*(ε_Pos ⊙ ε_Pos)\n",
    "   end\n",
    "    return ΨPlus\n",
    "end"
   ]
  },
  {
   "cell_type": "code",
   "execution_count": 8,
   "id": "5cf42f45",
   "metadata": {},
   "outputs": [
    {
     "data": {
      "text/plain": [
       "SingleFieldFEFunction():\n",
       " num_cells: 408328\n",
       " DomainStyle: ReferenceDomain()\n",
       " Triangulation: BodyFittedTriangulation()\n",
       " Triangulation id: 18088607808475676078"
      ]
     },
     "execution_count": 8,
     "metadata": {},
     "output_type": "execute_result"
    }
   ],
   "source": [
    "order = 1\n",
    "reffe_PF = ReferenceFE(lagrangian ,Float64,order)\n",
    "V0_PF = TestFESpace(model ,reffe_PF;conformity =:H1)\n",
    "U_PF = TrialFESpace(V0_PF)\n",
    "sh = zero(V0_PF)\n",
    "\n",
    "reffe_Disp = ReferenceFE(lagrangian,VectorValue{2,Float64},order)\n",
    "        V0_Disp = TestFESpace(model,reffe_Disp;\n",
    "          conformity=:H1,\n",
    "          dirichlet_tags=[\"loadboundary\",\"fixedboundary\"],\n",
    "          dirichlet_masks=[(true,true), (true,true)])\n",
    "uh = zero(V0_Disp)"
   ]
  },
  {
   "cell_type": "code",
   "execution_count": 9,
   "id": "b5b53287",
   "metadata": {},
   "outputs": [
    {
     "data": {
      "text/plain": [
       "Measure()"
      ]
     },
     "execution_count": 9,
     "metadata": {},
     "output_type": "execute_result"
    }
   ],
   "source": [
    "degree = 2*order\n",
    "Ω = Triangulation(model)\n",
    "dΩ = Measure(Ω,degree)"
   ]
  },
  {
   "cell_type": "code",
   "execution_count": 10,
   "id": "88b1c7bb",
   "metadata": {},
   "outputs": [
    {
     "data": {
      "text/plain": [
       "GenericCellField():\n",
       " num_cells: 290\n",
       " DomainStyle: ReferenceDomain()\n",
       " Triangulation: BoundaryTriangulation()\n",
       " Triangulation id: 13410838545182968847"
      ]
     },
     "execution_count": 10,
     "metadata": {},
     "output_type": "execute_result"
    }
   ],
   "source": [
    "LoadTagId = get_tag_from_name(labels,\"loadboundary\")\n",
    "Γ_Load = BoundaryTriangulation(model,tags = LoadTagId)\n",
    "dΓ_Load = Measure(Γ_Load,degree)\n",
    "n_Γ_Load = get_normal_vector(Γ_Load)"
   ]
  },
  {
   "cell_type": "code",
   "execution_count": 11,
   "id": "6a1800c5",
   "metadata": {},
   "outputs": [
    {
     "data": {
      "text/plain": [
       "SingleFieldFEFunction():\n",
       " num_cells: 408328\n",
       " DomainStyle: ReferenceDomain()\n",
       " Triangulation: BodyFittedTriangulation()\n",
       " Triangulation id: 18088607808475676078"
      ]
     },
     "execution_count": 11,
     "metadata": {},
     "output_type": "execute_result"
    }
   ],
   "source": [
    "function project(q,model,dΩ,order)\n",
    "  reffe = ReferenceFE(lagrangian,Float64,order)\n",
    "  V = FESpace(model,reffe,conformity=:L2)\n",
    "  a(u,v) = ∫(u*v)*dΩ\n",
    "  b(v) = ∫(v*q)*dΩ\n",
    "  op = AffineFEOperator(a,b,V,V)\n",
    "  qh = solve(op)\n",
    "  return qh\n",
    "end\n",
    "\n",
    "sId = CellState(1.0,dΩ)\n",
    "shId = project(sId,model,dΩ,order)"
   ]
  },
  {
   "cell_type": "code",
   "execution_count": 12,
   "id": "bf949325",
   "metadata": {},
   "outputs": [
    {
     "data": {
      "text/plain": [
       "stepDisp (generic function with 1 method)"
      ]
     },
     "execution_count": 12,
     "metadata": {},
     "output_type": "execute_result"
    }
   ],
   "source": [
    "function  stepDisp(uh_in,sh_in,vApp,tag)\n",
    "    uApp1(x) = VectorValue(0.0,vApp)\n",
    "    uApp2(x) = VectorValue(0.0,0.0)\n",
    "    U_Disp = TrialFESpace(V0_Disp,[uApp1,uApp2])\n",
    "    a_Disp(u,v) = ∫( (ε(v)⊙(σ_fun ∘ (ε(u),ε(uh_in),sh_in,tag)) ) )*dΩ\n",
    "     b_Disp(v) = 0.0\n",
    "    op_Disp = AffineFEOperator(a_Disp ,b_Disp ,U_Disp ,V0_Disp)\n",
    "    uh_out = Gridap.solve(op_Disp)\n",
    "    return  uh_out\n",
    "end"
   ]
  },
  {
   "cell_type": "code",
   "execution_count": 13,
   "id": "87a579b4",
   "metadata": {},
   "outputs": [
    {
     "data": {
      "text/plain": [
       "stepPhaseField (generic function with 1 method)"
      ]
     },
     "execution_count": 13,
     "metadata": {},
     "output_type": "execute_result"
    }
   ],
   "source": [
    "function   stepPhaseField(uh_in ,ΨPlusPrev_in)\n",
    "    a_PF(s,ϕ) =∫( (Gc∘(shId,mat_tags))*ls*∇(ϕ)⋅∇(s)+ 2*ΨPlusPrev_in*s*ϕ+ ((Gc∘(shId,mat_tags))/ls)*s*ϕ)*dΩ\n",
    "    b_PF(ϕ) =∫( ((Gc∘(shId,mat_tags))/ls)*ϕ)*dΩ\n",
    "    op_PF = AffineFEOperator(a_PF,b_PF ,U_PF ,V0_PF)\n",
    "    sh_out = Gridap.solve(op_PF)\n",
    "    return  sh_out\n",
    "end"
   ]
  },
  {
   "cell_type": "code",
   "execution_count": 14,
   "id": "68a28146",
   "metadata": {},
   "outputs": [
    {
     "data": {
      "text/plain": [
       "new_EnergyState (generic function with 1 method)"
      ]
     },
     "execution_count": 14,
     "metadata": {},
     "output_type": "execute_result"
    }
   ],
   "source": [
    "function  new_EnergyState(ΨPlusPrev_in,ΨhPos_in)\n",
    "    ΨPlus_in = ΨhPos_in\n",
    "    if ΨPlus_in  >=ΨPlusPrev_in\n",
    "        ΨPlus_out =ΨPlus_in\n",
    "    else\n",
    "        ΨPlus_out=ΨPlusPrev_in\n",
    "    end\n",
    "    true,ΨPlus_out\n",
    "end "
   ]
  },
  {
   "cell_type": "code",
   "execution_count": null,
   "id": "90919444",
   "metadata": {},
   "outputs": [
    {
     "name": "stdout",
     "output_type": "stream",
     "text": [
      "\n",
      " Entering  displacemtent  step:count 0.05\n",
      " Relative Error :4.291063972272709e-17\n",
      " Entering  displacemtent  step:count 0.1\n",
      " Relative Error :2.7284566594611467e-5\n",
      " Relative Error :8.181980968564343e-5\n",
      " Relative Error :1.5722365033218865e-7\n",
      " Relative Error :1.2462196247306586e-9\n",
      " Entering  displacemtent  step:count 0.15000000000000002\n",
      " Relative Error :1.4064829507996255e-11\n",
      " Entering  displacemtent  step:count 0.2\n",
      " Relative Error :0.0001360465980276558\n",
      " Relative Error :0.00019031823789929212\n",
      " Relative Error :1.4835631453290745e-6\n",
      " Relative Error :4.8085328228371917e-8\n",
      " Relative Error :2.2267599038709028e-9\n",
      " Entering  displacemtent  step:count 0.25\n",
      " Relative Error :1.1909827304913462e-10\n",
      " Entering  displacemtent  step:count 0.3\n",
      " Relative Error :0.00024248264087495844\n",
      " Relative Error :0.0002971875078494309\n",
      " Relative Error :5.410384854786724e-6\n",
      " Relative Error :4.127656245582661e-7\n",
      " Relative Error :4.511371066379951e-8\n",
      " Relative Error :5.671343257943055e-9\n",
      " Entering  displacemtent  step:count 0.35\n",
      " Relative Error :7.494434693584823e-10\n",
      " Entering  displacemtent  step:count 0.39999999999999997\n",
      " Relative Error :0.0003437542718400015\n",
      " Relative Error :0.0004012233027378788\n",
      " Relative Error :1.382965795399304e-5\n",
      " Relative Error :2.012691056004208e-6\n",
      " Relative Error :4.2073730965957606e-7\n",
      " Relative Error :1.0072989888899601e-7\n",
      " Relative Error :2.5253259787908063e-8\n",
      " Relative Error :6.42045743647934e-9\n",
      " Entering  displacemtent  step:count 0.44999999999999996\n",
      " Relative Error :1.6392728747243846e-9\n",
      " Entering  displacemtent  step:count 0.49999999999999994\n",
      " Relative Error :0.0004353528871846088\n",
      " Relative Error :0.0005008052869704579\n",
      " Relative Error :2.968402306446036e-5\n",
      " Relative Error :7.448000981841306e-6\n",
      " Relative Error :2.6950151483795736e-6\n",
      " Relative Error :1.117883573031474e-6\n",
      " Relative Error :4.856938040531717e-7\n",
      " Relative Error :2.1419549806336026e-7\n",
      " Relative Error :9.496386024927005e-8\n",
      " Relative Error :4.2194723815345606e-8\n",
      " Entering  displacemtent  step:count 0.5499999999999999\n",
      " Relative Error :1.8766010268283165e-8\n",
      " Relative Error :0.0005068233352026517\n",
      " Relative Error :3.56164136013884e-5\n",
      " Relative Error :1.0993641788992218e-5\n",
      " Relative Error :5.078756213103546e-6\n",
      " Relative Error :2.7409729694576555e-6\n",
      " Relative Error :1.5632725333375989e-6\n",
      " Relative Error :9.095246770144485e-7\n",
      " Relative Error :5.337614934062884e-7\n",
      " Relative Error :3.1462384369206537e-7\n",
      " Entering  displacemtent  step:count 0.6\n",
      " Relative Error :1.8591325390986656e-7\n",
      " Relative Error :0.0005351588648780893\n",
      " Relative Error :4.802202474853615e-5\n",
      " Relative Error :1.915170599011858e-5\n",
      " Relative Error :1.16700007993057e-5\n",
      " Relative Error :8.392413359499551e-6\n",
      " Relative Error :6.440404763325788e-6\n",
      " Relative Error :5.08367837004364e-6\n",
      " Relative Error :4.090419252096582e-6\n",
      " Relative Error :3.338298129214059e-6\n",
      " Entering  displacemtent  step:count 0.65\n",
      " Relative Error :2.7553634685244578e-6\n",
      " Relative Error :0.000532514129510479\n",
      " Relative Error :6.584374323679402e-5\n",
      " Relative Error :3.6574804104571095e-5\n",
      " Relative Error :3.108683731943174e-5\n",
      " Relative Error :3.069679080062993e-5\n",
      " Relative Error :3.2245786383841387e-5\n",
      " Relative Error :3.48727762367015e-5\n",
      " Relative Error :3.79546984896971e-5\n",
      " Relative Error :4.109999132469615e-5\n",
      " Entering  displacemtent  step:count 0.7000000000000001\n",
      " Relative Error :4.418474731684337e-5\n",
      " Relative Error :0.0005311865093222573\n",
      " Relative Error :0.00011379836326136172\n",
      " Relative Error :7.751593439320034e-5\n",
      " Relative Error :6.177578158941138e-5\n",
      " Relative Error :4.990461561982119e-5\n",
      " Relative Error :3.861439343329186e-5\n",
      " Relative Error :2.8316176128403703e-5\n",
      " Relative Error :1.981055850147892e-5\n",
      " Relative Error :1.3296305248073128e-5\n",
      " Entering  displacemtent  step:count 0.7500000000000001\n",
      " Relative Error :8.604621978335747e-6\n",
      " Relative Error :0.00046683732612227003\n",
      " Relative Error :5.589641706960492e-5\n",
      " Relative Error :1.746940636764219e-5\n",
      " Relative Error :6.88276763358585e-6\n",
      " Relative Error :3.4186090616533393e-6\n",
      " Relative Error :2.112253102370291e-6\n",
      " Relative Error :1.5174412513309535e-6\n",
      " Relative Error :1.1900064417328516e-6\n",
      " Relative Error :9.719024835389342e-7\n",
      " Entering  displacemtent  step:count 0.8000000000000002\n",
      " Relative Error :8.089694307305591e-7\n",
      " Relative Error :0.0005141323639055393\n",
      " Relative Error :6.368477025946428e-5\n",
      " Relative Error :2.1045868102506166e-5\n",
      " Relative Error :8.146108864891619e-6\n",
      " Relative Error :3.588169764555044e-6\n",
      " Relative Error :1.8279928670639323e-6\n",
      " Relative Error :1.0792828413171604e-6\n",
      " Relative Error :7.163223100323503e-7\n",
      " Relative Error :5.201833446563825e-7\n",
      " Entering  displacemtent  step:count 0.8500000000000002\n",
      " Relative Error :4.0476472907268944e-7\n",
      " Relative Error :0.0005259974932890169\n",
      " Relative Error :7.591213167716074e-5\n",
      " Relative Error :2.820125904386188e-5\n",
      " Relative Error :1.2157215639300742e-5\n",
      " Relative Error :5.737448764605136e-6\n",
      " Relative Error :2.9448144309789094e-6\n",
      " Relative Error :1.63721459492855e-6\n",
      " Relative Error :9.708834653568706e-7\n",
      " Relative Error :6.145572777606562e-7\n",
      " Entering  displacemtent  step:count 0.9000000000000002\n",
      " Relative Error :4.1546382902940523e-7\n",
      " Relative Error :0.0005206632187203849\n",
      " Relative Error :8.956579557178094e-5\n",
      " Relative Error :3.828957790495286e-5\n",
      " Relative Error :1.8948778709110187e-5\n",
      " Relative Error :1.0223832238360543e-5\n",
      " Relative Error :5.910567214988309e-6\n",
      " Relative Error :3.595625422938582e-6\n",
      " Relative Error :2.2544913923729777e-6\n",
      " Relative Error :1.4514846293098375e-6\n",
      " Entering  displacemtent  step:count 0.9500000000000003\n",
      " Relative Error :9.55977711732525e-7\n",
      " Relative Error :0.000497244451900213\n",
      " Relative Error :0.00010472541391987328\n",
      " Relative Error :5.214313226975224e-5\n",
      " Relative Error :3.011552019121831e-5\n",
      " Relative Error :1.907567601476821e-5\n",
      " Relative Error :1.2953362658556835e-5\n",
      " Relative Error :9.139217038725886e-6\n",
      " Relative Error :6.5995464181089756e-6\n",
      " Relative Error :4.825851806000122e-6\n",
      " Entering  displacemtent  step:count 1.0000000000000002\n",
      " Relative Error :3.555579418295544e-6\n",
      " Relative Error :0.0004428654512781837\n",
      " Relative Error :0.00012241492415069856\n",
      " Relative Error :7.222681255417947e-5\n",
      " Relative Error :5.011028045021845e-5\n",
      " Relative Error :3.866495125571365e-5\n",
      " Relative Error :3.1893884556195185e-5\n",
      " Relative Error :2.733376392920649e-5\n",
      " Relative Error :2.4097298268503056e-5\n",
      " Relative Error :2.165399085966004e-5\n",
      " Entering  displacemtent  step:count 1.0500000000000003\n",
      " Relative Error :1.9809550041042294e-5\n",
      " Relative Error :0.00036602225904447763\n",
      " Relative Error :0.00015119219730170985\n",
      " Relative Error :0.00011551734323065323\n",
      " Relative Error :0.00010572153712219725\n",
      " Relative Error :0.00010442970019566009\n",
      " Relative Error :0.00010805948700910369\n",
      " Relative Error :0.00011507831465973155\n",
      " Relative Error :0.00012389347753876775\n",
      " Relative Error :0.0001321636859443906\n",
      " Entering  displacemtent  step:count 1.1000000000000003\n",
      " Relative Error :0.00013669994069981646\n",
      " Relative Error :0.00037182422730941465\n",
      " Relative Error :0.00021649920381613708\n",
      " Relative Error :0.00016947504048269016\n",
      " Relative Error :0.00013143660963289134\n",
      " Relative Error :9.939656111021245e-5\n",
      " Relative Error :7.579952244646781e-5\n",
      " Relative Error :6.0092865567686875e-5\n",
      " Relative Error :5.091702041850761e-5\n",
      " Relative Error :4.5327865768644196e-5\n",
      " Entering  displacemtent  step:count 1.1500000000000004\n",
      " Relative Error :4.243005207483113e-5\n",
      " Relative Error :0.00020536947108615932\n",
      " Relative Error :0.00010025537235577624\n",
      " Relative Error :8.251285983373055e-5\n",
      " Relative Error :7.720763353490015e-5\n",
      " Relative Error :7.675413693643636e-5\n",
      " Relative Error :7.965621401457883e-5\n",
      " Relative Error :8.518752036744606e-5\n",
      " Relative Error :9.12310749476617e-5\n",
      " Relative Error :9.58320868757943e-5\n",
      " Entering  displacemtent  step:count 1.2000000000000004\n",
      " Relative Error :8.905168328296196e-5\n",
      " Relative Error :0.00018904430212818638\n",
      " Relative Error :8.675341805432015e-5\n",
      " Relative Error :5.281576849108984e-5\n",
      " Relative Error :3.359464366882434e-5\n",
      " Relative Error :2.231208520488855e-5\n",
      " Relative Error :1.5636905683685177e-5\n",
      " Relative Error :1.1504675534762518e-5\n",
      " Relative Error :8.75494088299218e-6\n",
      " Relative Error :6.766782059411069e-6\n",
      " Entering  displacemtent  step:count 1.2500000000000004\n",
      " Relative Error :5.253112655548288e-6\n"
     ]
    },
    {
     "name": "stdout",
     "output_type": "stream",
     "text": [
      " Relative Error :0.00013612984562180164\n",
      " Relative Error :2.9096258986217174e-5\n",
      " Relative Error :1.3933041396823925e-5\n",
      " Relative Error :9.028647881825056e-6\n",
      " Relative Error :6.650364076245389e-6\n",
      " Relative Error :5.1860440589942984e-6\n",
      " Relative Error :4.166123820195532e-6\n",
      " Relative Error :3.407711456285845e-6\n",
      " Relative Error :2.8309031947146864e-6\n",
      " Entering  displacemtent  step:count 1.3000000000000005\n",
      " Relative Error :2.3777516270723174e-6\n",
      " Relative Error :0.00014257530167565696\n",
      " Relative Error :2.860605679934968e-5\n",
      " Relative Error :1.3033817804595765e-5\n",
      " Relative Error :8.282593713271083e-6\n",
      " Relative Error :6.109189644572276e-6\n",
      " Relative Error :4.7883367270347075e-6\n",
      " Relative Error :3.851942261554861e-6\n",
      " Relative Error :3.1349277270523557e-6\n",
      " Relative Error :2.568919770838967e-6\n",
      " Entering  displacemtent  step:count 1.3500000000000005\n",
      " Relative Error :2.119442236010857e-6\n",
      " Relative Error :0.0001538239039112702\n",
      " Relative Error :3.013671780606808e-5\n",
      " Relative Error :1.336134486304097e-5\n",
      " Relative Error :8.317456131322907e-6\n",
      " Relative Error :6.137769782220024e-6\n",
      " Relative Error :4.874483083395336e-6\n",
      " Relative Error :3.974341276102561e-6\n",
      " Relative Error :3.272527688396366e-6\n",
      " Relative Error :2.7049618134853293e-6\n",
      " Entering  displacemtent  step:count 1.4000000000000006\n",
      " Relative Error :2.2396489429941346e-6\n",
      " Relative Error :0.0001696947862331297\n",
      " Relative Error :3.3513340492724804e-5\n",
      " Relative Error :1.4816080653911972e-5\n",
      " Relative Error :8.961024749308249e-6\n",
      " Relative Error :6.375153598070175e-6\n",
      " Relative Error :4.945035037010896e-6\n",
      " Relative Error :4.033572954498103e-6\n",
      " Relative Error :3.396557085243587e-6\n",
      " Relative Error :2.9234995917576277e-6\n",
      " Entering  displacemtent  step:count 1.4500000000000006\n",
      " Relative Error :2.5976235073329934e-6\n",
      " Relative Error :0.00018361494786042017\n",
      " Relative Error :3.832245982248989e-5\n",
      " Relative Error :1.803875672952464e-5\n",
      " Relative Error :1.1673243729892703e-5\n",
      " Relative Error :9.52754723879643e-6\n",
      " Relative Error :8.596391835535158e-6\n",
      " Relative Error :8.137914767016224e-6\n",
      " Relative Error :8.00059926283601e-6\n",
      " Relative Error :8.067636285362566e-6\n",
      " Entering  displacemtent  step:count 1.5000000000000007\n",
      " Relative Error :8.186623202580676e-6\n",
      " Relative Error :0.00017854510136575325\n",
      " Relative Error :3.9838312219922815e-5\n",
      " Relative Error :2.217186606480781e-5\n",
      " Relative Error :1.8164782247628957e-5\n",
      " Relative Error :1.609594834170302e-5\n",
      " Relative Error :1.4623106180602394e-5\n",
      " Relative Error :1.3464702775868928e-5\n",
      " Relative Error :1.2735872924125464e-5\n",
      " Relative Error :1.249017065404137e-5\n",
      " Entering  displacemtent  step:count 1.5500000000000007\n",
      " Relative Error :1.2688988884653255e-5\n",
      " Relative Error :0.00018515029378831236\n",
      " Relative Error :4.9688014659139146e-5\n",
      " Relative Error :3.977337688224946e-5\n",
      " Relative Error :4.390696356387371e-5\n",
      " Relative Error :5.320860591914361e-5\n",
      " Relative Error :6.772098835989658e-5\n",
      " Relative Error :8.346293086641911e-5\n",
      " Relative Error :8.345277007348663e-5\n",
      " Relative Error :6.129051848251336e-5\n",
      " Entering  displacemtent  step:count 1.6000000000000008\n",
      " Relative Error :3.5479419127310566e-5\n",
      " Relative Error :0.00012897175799607844\n",
      " Relative Error :3.382508139895317e-5\n",
      " Relative Error :1.8302795085528898e-5\n",
      " Relative Error :1.2198856338983533e-5\n",
      " Relative Error :8.982116147763692e-6\n",
      " Relative Error :6.918411814431744e-6\n",
      " Relative Error :5.433366660530255e-6\n",
      " Relative Error :4.319830495534151e-6\n",
      " Relative Error :3.4618630175279593e-6\n",
      " Entering  displacemtent  step:count 1.6500000000000008\n",
      " Relative Error :2.7904747162607527e-6\n",
      " Relative Error :0.00016309605791399318\n",
      " Relative Error :3.481453119989619e-5\n",
      " Relative Error :2.0270237338860998e-5\n",
      " Relative Error :1.5667306199384157e-5\n",
      " Relative Error :1.3071002139062052e-5\n",
      " Relative Error :1.1221185919844946e-5\n",
      " Relative Error :9.819972328186323e-6\n",
      " Relative Error :8.727155635144191e-6\n",
      " Relative Error :7.85455021184863e-6\n",
      " Entering  displacemtent  step:count 1.7000000000000008\n",
      " Relative Error :7.149497490174292e-6\n",
      " Relative Error :0.0001778608305498846\n",
      " Relative Error :4.803301377039063e-5\n",
      " Relative Error :3.5644271139270385e-5\n",
      " Relative Error :3.2436357751018065e-5\n",
      " Relative Error :3.175603985706326e-5\n",
      " Relative Error :3.2440729384301154e-5\n",
      " Relative Error :3.413967084723142e-5\n",
      " Relative Error :3.674175023580242e-5\n",
      " Relative Error :4.025050527563971e-5\n",
      " Entering  displacemtent  step:count 1.7500000000000009\n",
      " Relative Error :4.465291491927739e-5"
     ]
    }
   ],
   "source": [
    "vApp = 0\n",
    "const  vAppMax = 5\n",
    "delv = vAppMax/100\n",
    "innerMax = 10\n",
    "count = 0\n",
    "Load = Float64[]\n",
    "Displacement = Float64[]\n",
    "Stress = Float64[]\n",
    "Strain = Float64[]\n",
    "\n",
    "push!(Load, 0.0)\n",
    "push!(Displacement, 0.0)\n",
    "\n",
    "sPrev = CellState(1.0,dΩ)\n",
    "sh = project(sPrev ,model ,dΩ,order)\n",
    "ΨPlusPrev = CellState(0.0,dΩ)\n",
    "\n",
    "while  vApp .< vAppMax\n",
    "    count = count  .+ 1   \n",
    "    vApp = vApp .+ delv\n",
    "    print(\"\\n Entering  displacemtent  step:count \", float(vApp))\n",
    "\n",
    "    for  inner = 1: innerMax\n",
    "        ΨhPlusPrev = project(ΨPlusPrev ,model ,dΩ,order)\n",
    "        RelErr = abs(sum(∫( (Gc∘(shId,mat_tags))*ls*∇(sh)⋅∇(sh) + 2*ΨhPlusPrev*sh*sh + ((Gc∘(shId,mat_tags))/ls)*sh*sh)*dΩ-∫( ((Gc∘(shId,mat_tags))/ls)*sh)*dΩ))/abs(sum(∫( ((Gc∘(shId,mat_tags))/ls)*sh)*dΩ))\n",
    "        print(\"\\n Relative Error :\", float(RelErr))\n",
    "        sh = stepPhaseField(uh,ΨhPlusPrev)\n",
    "        uh = stepDisp(uh,sh,vApp,mat_tags)\n",
    "        ΨhPos_in = ΨPos∘(ε(uh),mat_tags)\n",
    "        update_state!( new_EnergyState ,ΨPlusPrev ,ΨhPos_in)\n",
    "        if   RelErr  < 1e-8\n",
    "            break\n",
    "        end\n",
    "    end\n",
    "    Node_Force = sum(∫(n_Γ_Load⋅(σ_fun∘(ε(uh),ε(uh),sh,mat_tags)))*dΓ_Load)\n",
    "    push!(Load , Node_Force[2])\n",
    "    push!( Displacement , vApp)\n",
    "    if mod(count,5)==0\n",
    "    writevtk(Ω,\"results_vtk\",cellfields= [\"uh\"=>uh ,\"s\"=>sh,\"epsi\"=>ε(uh), \"σ_elas\"=>σ_elas∘(ε(uh),mat_tags)])\n",
    "    end\n",
    " end"
   ]
  },
  {
   "cell_type": "code",
   "execution_count": null,
   "id": "1a4b1726",
   "metadata": {},
   "outputs": [],
   "source": [
    "plot(Displacement,Load)"
   ]
  },
  {
   "cell_type": "code",
   "execution_count": null,
   "id": "7f388fdc",
   "metadata": {},
   "outputs": [],
   "source": []
  }
 ],
 "metadata": {
  "kernelspec": {
   "display_name": "Julia 1.8.4",
   "language": "julia",
   "name": "julia-1.8"
  },
  "language_info": {
   "file_extension": ".jl",
   "mimetype": "application/julia",
   "name": "julia",
   "version": "1.8.4"
  }
 },
 "nbformat": 4,
 "nbformat_minor": 5
}
